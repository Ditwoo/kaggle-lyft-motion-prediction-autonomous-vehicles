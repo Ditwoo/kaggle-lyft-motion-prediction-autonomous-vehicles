{
 "cells": [
  {
   "cell_type": "code",
   "execution_count": 1,
   "metadata": {},
   "outputs": [],
   "source": [
    "import warnings\n",
    "warnings.filterwarnings('ignore')"
   ]
  },
  {
   "cell_type": "code",
   "execution_count": 2,
   "metadata": {},
   "outputs": [],
   "source": [
    "import os\n",
    "import sys\n",
    "import numpy as np\n",
    "import pandas as ps\n",
    "\n",
    "import torch\n",
    "import torch.nn.functional as F\n",
    "from torch.utils.data import DataLoader, RandomSampler\n",
    "\n",
    "\n",
    "from l5kit.geometry import transform_points\n",
    "from l5kit.data import LocalDataManager, ChunkedDataset\n",
    "from l5kit.dataset import AgentDataset, EgoDataset\n",
    "from l5kit.rasterization import build_rasterizer\n",
    "from l5kit.evaluation import write_pred_csv\n",
    "\n",
    "sys.path.append(\"..\")\n",
    "\n",
    "from src.batteries import t2d, load_checkpoint\n",
    "from src.batteries.progress import tqdm\n",
    "from src.models.genet import genet_normal\n",
    "from src.models.resnets import resnet18, resnet50\n",
    "from src.models.resnext import resnext18\n",
    "from src.models import ModelWithConfidence"
   ]
  },
  {
   "cell_type": "code",
   "execution_count": 3,
   "metadata": {},
   "outputs": [],
   "source": [
    "DATA_DIR = \"../data\"\n",
    "os.environ[\"L5KIT_DATA_FOLDER\"] = DATA_DIR"
   ]
  },
  {
   "cell_type": "code",
   "execution_count": 4,
   "metadata": {},
   "outputs": [
    {
     "name": "stdout",
     "output_type": "stream",
     "text": [
      "<= Loaded model from '../logs/resnet18_bigerimages_continue4/stage_0/best.pth'\n",
      "Stage: stage_0\n",
      "Epoch: 1\n",
      "Metrics:\n",
      "{'train': {'loss': 12.515466623828052}, 'valid': {'loss': 12.515466623828052}}\n"
     ]
    }
   ],
   "source": [
    "cfg = {\n",
    "    \"format_version\": 4,\n",
    "    \"model_params\": {\n",
    "        \"history_num_frames\": 10,\n",
    "        \"history_step_size\": 1,\n",
    "        \"history_delta_time\": 0.1,\n",
    "        \"future_num_frames\": 50,\n",
    "        \"future_step_size\": 1,\n",
    "        \"future_delta_time\": 0.1,\n",
    "    },\n",
    "    \"raster_params\": {\n",
    "        \"raster_size\": [384, 384],\n",
    "        \"pixel_size\": [0.5, 0.5],\n",
    "        \"ego_center\": [0.25, 0.5],\n",
    "        \"map_type\": \"py_semantic\",\n",
    "        \"satellite_map_key\": \"aerial_map/aerial_map.png\",\n",
    "        \"semantic_map_key\": \"semantic_map/semantic_map.pb\",\n",
    "        \"dataset_meta_key\": \"meta.json\",\n",
    "        \"filter_agents_threshold\": 0.5,\n",
    "    },\n",
    "    \"train_data_loader\": {\n",
    "        \"key\": \"scenes/train.zarr\",\n",
    "        \"batch_size\": 12,\n",
    "        \"shuffle\": True,\n",
    "        \"num_workers\": 4,\n",
    "    },\n",
    "}\n",
    "\n",
    "history_n_frames = cfg[\"model_params\"][\"history_num_frames\"]\n",
    "future_n_frames = cfg[\"model_params\"][\"future_num_frames\"]\n",
    "n_trajectories = 3\n",
    "# model = ModelWithConfidence(\n",
    "#     backbone=genet_normal(\n",
    "#         in_channels=3 + (history_n_frames + 1) * 2,\n",
    "#         num_classes=2 * future_n_frames * n_trajectories + n_trajectories,\n",
    "#     ),\n",
    "#     future_num_frames=future_n_frames,\n",
    "#     num_trajectories=n_trajectories,\n",
    "# )\n",
    "model = ModelWithConfidence(\n",
    "    backbone=resnet18(\n",
    "        pretrained=False,\n",
    "        in_channels=3 + 2 * (history_n_frames + 1),\n",
    "        num_classes=2 * future_n_frames * n_trajectories + n_trajectories,\n",
    "    ),\n",
    "    future_num_frames=future_n_frames,\n",
    "    num_trajectories=n_trajectories,\n",
    ")\n",
    "load_checkpoint(\"../logs/resnet18_bigerimages_continue4/stage_0/best.pth\", model)\n",
    "# load_checkpoint(\"../leo_checkpoints/best.pth\", model)"
   ]
  },
  {
   "cell_type": "code",
   "execution_count": 5,
   "metadata": {},
   "outputs": [],
   "source": [
    "dm = LocalDataManager(None)\n",
    "rasterizer = build_rasterizer(cfg, dm)\n",
    "\n",
    "test_zarr = ChunkedDataset(dm.require(\"scenes/test.zarr\")).open()\n",
    "test_mask = np.load(f\"{DATA_DIR}/scenes/mask.npz\")[\"arr_0\"]\n",
    "\n",
    "test_dataset = AgentDataset(\n",
    "    cfg, test_zarr, rasterizer, agents_mask=test_mask\n",
    ")\n",
    "test_dataloader = DataLoader(\n",
    "    test_dataset,\n",
    "    shuffle=False,\n",
    "    batch_size=32,\n",
    "    num_workers=20\n",
    ")"
   ]
  },
  {
   "cell_type": "code",
   "execution_count": 6,
   "metadata": {},
   "outputs": [],
   "source": [
    "device = torch.device(\"cuda:0\")\n",
    "model = model.to(device)"
   ]
  },
  {
   "cell_type": "code",
   "execution_count": 7,
   "metadata": {},
   "outputs": [
    {
     "name": "stdout",
     "output_type": "stream",
     "text": [
      "100%|████████████████████| 2223/2223 [12:11<00:00,  3.04it/s]\n"
     ]
    }
   ],
   "source": [
    "model.eval()\n",
    "torch.set_grad_enabled(False)\n",
    "\n",
    "# store information for evaluation\n",
    "future_coords_offsets_pd = []\n",
    "timestamps = []\n",
    "confidences_list = []\n",
    "agent_ids = []\n",
    "\n",
    "with tqdm(total=len(test_dataloader)) as progress:\n",
    "    for data in test_dataloader:\n",
    "        inputs = data['image'].to(device)\n",
    "\n",
    "        preds, confidences  = model(inputs)\n",
    "        \n",
    "        # TODO: fix coordinates\n",
    "        preds = preds.cpu().numpy().copy()\n",
    "        world_from_agents = data[\"world_from_agent\"].numpy()\n",
    "        centroids = data[\"centroid\"].numpy()\n",
    "        for idx in range(len(preds)):\n",
    "            for mode in range(n_trajectories):\n",
    "                # FIX\n",
    "                preds[idx, mode, :, :] = transform_points(preds[idx, mode, :, :], world_from_agents[idx]) - centroids[idx][:2]\n",
    "        \n",
    "        future_coords_offsets_pd.append(preds.copy())\n",
    "        confidences_list.append(confidences.cpu().numpy().copy())\n",
    "        timestamps.append(data[\"timestamp\"].numpy().copy())\n",
    "        agent_ids.append(data[\"track_id\"].numpy().copy())\n",
    "\n",
    "        progress.update(1)\n",
    "\n",
    "\n",
    "predictions_file = \"submission_resnet18_384x384_continue4_ofsets.csv\"\n",
    "write_pred_csv(\n",
    "    predictions_file,\n",
    "    timestamps=np.concatenate(timestamps),\n",
    "    track_ids=np.concatenate(agent_ids),\n",
    "    coords=np.concatenate(future_coords_offsets_pd),\n",
    "    confs = np.concatenate(confidences_list)\n",
    ")"
   ]
  },
  {
   "cell_type": "code",
   "execution_count": null,
   "metadata": {},
   "outputs": [],
   "source": []
  }
 ],
 "metadata": {
  "kernelspec": {
   "display_name": "Python 3.7.4 64-bit ('torch': conda)",
   "language": "python",
   "name": "python37464bittorchcondab46d9803850a4193b40c5aded830a323"
  },
  "language_info": {
   "codemirror_mode": {
    "name": "ipython",
    "version": 3
   },
   "file_extension": ".py",
   "mimetype": "text/x-python",
   "name": "python",
   "nbconvert_exporter": "python",
   "pygments_lexer": "ipython3",
   "version": "3.7.4"
  }
 },
 "nbformat": 4,
 "nbformat_minor": 4
}
