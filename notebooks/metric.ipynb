{
 "cells": [
  {
   "cell_type": "code",
   "execution_count": 1,
   "metadata": {},
   "outputs": [],
   "source": [
    "import os\n",
    "import sys\n",
    "\n",
    "import torch\n",
    "import torch.nn.functional as F\n",
    "from torch.utils.data import DataLoader, RandomSampler\n",
    "\n",
    "\n",
    "from l5kit.data import LocalDataManager, ChunkedDataset\n",
    "from l5kit.dataset import AgentDataset, EgoDataset\n",
    "from l5kit.rasterization import build_rasterizer\n",
    "\n",
    "\n",
    "sys.path.append(\"..\")\n",
    "\n",
    "from src.batteries import t2d, load_checkpoint\n",
    "from src.batteries.progress import tqdm\n",
    "from src.models.genet import genet_normal\n",
    "from src.models import ModelWithConfidence "
   ]
  },
  {
   "cell_type": "code",
   "execution_count": 2,
   "metadata": {},
   "outputs": [],
   "source": [
    "os.environ[\"L5KIT_DATA_FOLDER\"] = \"../data\""
   ]
  },
  {
   "cell_type": "code",
   "execution_count": 3,
   "metadata": {},
   "outputs": [
    {
     "name": "stdout",
     "output_type": "stream",
     "text": [
      "<= Loaded model from '../logs/genet_normal_confidence/stage_0/best.pth'\n",
      "Stage: stage_0\n",
      "Epoch: 2\n",
      "Metrics:\n",
      "{'train': {'loss': 277.9709114074707}, 'valid': {'loss': 188.6406391143799}}\n"
     ]
    }
   ],
   "source": [
    "cfg = {\n",
    "    \"format_version\": 4,\n",
    "    \"model_params\": {\n",
    "        \"history_num_frames\": 10,\n",
    "        \"history_step_size\": 1,\n",
    "        \"history_delta_time\": 0.1,\n",
    "        \"future_num_frames\": 50,\n",
    "        \"future_step_size\": 1,\n",
    "        \"future_delta_time\": 0.1,\n",
    "    },\n",
    "    \"raster_params\": {\n",
    "        \"raster_size\": [224, 224],\n",
    "        \"pixel_size\": [0.5, 0.5],\n",
    "        \"ego_center\": [0.25, 0.5],\n",
    "        \"map_type\": \"py_semantic\",\n",
    "        \"satellite_map_key\": \"aerial_map/aerial_map.png\",\n",
    "        \"semantic_map_key\": \"semantic_map/semantic_map.pb\",\n",
    "        \"dataset_meta_key\": \"meta.json\",\n",
    "        \"filter_agents_threshold\": 0.5,\n",
    "    },\n",
    "    \"train_data_loader\": {\n",
    "        \"key\": \"scenes/train.zarr\",\n",
    "        \"batch_size\": 12,\n",
    "        \"shuffle\": True,\n",
    "        \"num_workers\": 4,\n",
    "    },\n",
    "}\n",
    "\n",
    "history_n_frames = cfg[\"model_params\"][\"history_num_frames\"]\n",
    "future_n_frames = cfg[\"model_params\"][\"future_num_frames\"]\n",
    "n_trajectories = 3\n",
    "model = ModelWithConfidence(\n",
    "    backbone=genet_normal(\n",
    "        in_channels=3 + (history_n_frames + 1) * 2,\n",
    "        num_classes=2 * future_n_frames * n_trajectories + n_trajectories,\n",
    "    ),\n",
    "    future_num_frames=future_n_frames,\n",
    "    num_trajectories=n_trajectories,\n",
    ")\n",
    "load_checkpoint(\"../logs/genet_normal_confidence/stage_0/best.pth\", model)"
   ]
  },
  {
   "cell_type": "code",
   "execution_count": 4,
   "metadata": {},
   "outputs": [],
   "source": [
    "device = torch.device(\"cuda:0\")\n",
    "model = model.to(device)"
   ]
  },
  {
   "cell_type": "code",
   "execution_count": 5,
   "metadata": {},
   "outputs": [
    {
     "data": {
      "text/plain": [
       "157"
      ]
     },
     "execution_count": 5,
     "metadata": {},
     "output_type": "execute_result"
    }
   ],
   "source": [
    "dm = LocalDataManager(None)\n",
    "rasterizer = build_rasterizer(cfg, dm)\n",
    "\n",
    "valid_zarr = ChunkedDataset(dm.require(\"scenes/validate.zarr\")).open()\n",
    "valid_dataset = AgentDataset(cfg, valid_zarr, rasterizer)\n",
    "valid_sampler = RandomSampler(valid_dataset, replacement=True, num_samples=10_000)\n",
    "valid_loader = DataLoader(\n",
    "    valid_dataset,\n",
    "    batch_size=64,\n",
    "    shuffle=False,\n",
    "    sampler=valid_sampler,\n",
    "    num_workers=16,\n",
    ")\n",
    "\n",
    "len(valid_loader)"
   ]
  },
  {
   "cell_type": "code",
   "execution_count": null,
   "metadata": {},
   "outputs": [],
   "source": [
    "model.eval()\n",
    "\n",
    "predicted = []\n",
    "actual = []\n",
    "with torch.no_grad(), tqdm(total=len(valid_loader), desc=\"valid\") as progress:\n",
    "    for idx, batch in enumerate(valid_loader):\n",
    "        batch = t2d(batch, device)\n",
    "\n",
    "        target_availabilities = batch[\"target_availabilities\"].unsqueeze(-1)\n",
    "        targets = batch[\"target_positions\"]\n",
    "        outputs = model(batch[\"image\"]).reshape(targets.shape)\n",
    "        \n",
    "        predicted.append(outputs.detach().cpu().numpy())\n",
    "        actual.append(targets.cpu().numpy())\n",
    "\n",
    "        progress.update(1)\n",
    "\n",
    "predicted"
   ]
  },
  {
   "cell_type": "code",
   "execution_count": null,
   "metadata": {},
   "outputs": [],
   "source": [
    "def pytorch_neg_multi_log_likelihood(gt, pred, confidences, avails):\n",
    "    \"\"\"\n",
    "    Compute a negative log-likelihood for the multi-modal scenario.\n",
    "    log-sum-exp trick is used here to avoid underflow and overflow, For more information about it see:\n",
    "    https://en.wikipedia.org/wiki/LogSumExp#log-sum-exp_trick_for_log-domain_calculations\n",
    "    https://timvieira.github.io/blog/post/2014/02/11/exp-normalize-trick/\n",
    "    https://leimao.github.io/blog/LogSumExp/\n",
    "\n",
    "    Args:\n",
    "        gt (Tensor): array of shape (time)x(2D coords)\n",
    "        pred (Tensor): array of shape (modes)x(time)x(2D coords)\n",
    "        confidences (Tensor): array of shape (modes) with a confidence for each mode in each sample\n",
    "        avails (Tensor): array of shape (time) with the availability for each gt timestep\n",
    "\n",
    "    Returns:\n",
    "        Tensor: negative log-likelihood for this example, a single float number\n",
    "    \"\"\"\n",
    "    \n",
    "    assert len(pred.shape) == 3, f\"expected 3D (MxTxC) array for pred, got {pred.shape}\"\n",
    "    num_modes, future_len, num_coords = pred.shape\n",
    "\n",
    "    assert gt.shape == (future_len, num_coords), f\"expected 2D (Time x Coords) array for gt, got {gt.shape}\"\n",
    "    assert confidences.shape == (num_modes,), f\"expected 1D (Modes) array for gt, got {confidences.shape}\"\n",
    "    assert abs(torch.sum(confidences).item() - 1.0) < 1e-6, \"confidences should sum to 1\"\n",
    "    assert avails.shape == (future_len,), f\"expected 1D (Time) array for gt, got {avails.shape}\"\n",
    "    # assert all data are valid\n",
    "    assert torch.isfinite(pred).all(), \"invalid value found in pred\"\n",
    "    assert torch.isfinite(gt).all(), \"invalid value found in gt\"\n",
    "    assert torch.isfinite(confidences).all(), \"invalid value found in confidences\"\n",
    "    assert torch.isfinite(avails).all(), \"invalid value found in avails\"\n",
    "\n",
    "    gt = torch.unsqueeze(gt, 0)  # add modes\n",
    "    avails = avails[None, :, None]  # add modes and cords\n",
    "\n",
    "    error = torch.sum(((gt - pred) * avails) ** 2, dim=-1)  # reduce coords and use availability\n",
    "\n",
    "    with np.errstate(divide=\"ignore\"):  # when confidence is 0 log goes to -inf, but we're fine with it\n",
    "        error = torch.log(confidences) - 0.5 * torch.sum(error, dim=-1)  # reduce time\n",
    "\n",
    "    # use max aggregator on modes for numerical stability\n",
    "    max_value = error.max()  # error are negative at this point, so max() gives the minimum one\n",
    "    error = -torch.log(torch.sum(torch.exp(error - max_value), dim=-1)) - max_value  # reduce modes\n",
    "    return error"
   ]
  }
 ],
 "metadata": {
  "kernelspec": {
   "display_name": "Python 3.7.4 64-bit ('torch': conda)",
   "language": "python",
   "name": "python37464bittorchcondab46d9803850a4193b40c5aded830a323"
  },
  "language_info": {
   "codemirror_mode": {
    "name": "ipython",
    "version": 3
   },
   "file_extension": ".py",
   "mimetype": "text/x-python",
   "name": "python",
   "nbconvert_exporter": "python",
   "pygments_lexer": "ipython3",
   "version": "3.7.4"
  }
 },
 "nbformat": 4,
 "nbformat_minor": 4
}
