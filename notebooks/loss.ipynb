{
 "cells": [
  {
   "cell_type": "markdown",
   "metadata": {},
   "source": [
    "`local score` vs `loss`"
   ]
  },
  {
   "cell_type": "code",
   "execution_count": 1,
   "metadata": {},
   "outputs": [],
   "source": [
    "import warnings\n",
    "warnings.filterwarnings('ignore')"
   ]
  },
  {
   "cell_type": "code",
   "execution_count": 2,
   "metadata": {},
   "outputs": [],
   "source": [
    "import os\n",
    "import sys\n",
    "import numpy as np\n",
    "import pandas as ps\n",
    "\n",
    "import torch\n",
    "import torch.nn.functional as F\n",
    "from torch.utils.data import DataLoader, Subset \n",
    "\n",
    "\n",
    "from l5kit.geometry import transform_points\n",
    "from l5kit.data import LocalDataManager, ChunkedDataset\n",
    "from l5kit.dataset import AgentDataset, EgoDataset\n",
    "from l5kit.rasterization import build_rasterizer\n",
    "from l5kit.evaluation import write_pred_csv\n",
    "\n",
    "sys.path.append(\"..\")\n",
    "\n",
    "from src.batteries import t2d, load_checkpoint\n",
    "from src.batteries.progress import tqdm\n",
    "from src.models.genet import genet_normal\n",
    "from src.models.resnets import resnet18, resnet18_cat\n",
    "from src.models import ModelWithConfidence\n",
    "from src.criterion import neg_multi_log_likelihood_batch\n",
    "from src.datasets import CubicAgentDataset"
   ]
  },
  {
   "cell_type": "code",
   "execution_count": 3,
   "metadata": {},
   "outputs": [
    {
     "name": "stdout",
     "output_type": "stream",
     "text": [
      "aerial_map\n",
      "lyft-motion-prediction-autonomous-vehicles.zip\n",
      "meta.json\n",
      "multi_mode_sample_submission.csv\n",
      "scenes\n",
      "semantic_map\n",
      "single_mode_sample_submission.csv\n"
     ]
    }
   ],
   "source": [
    "!ls ../data"
   ]
  },
  {
   "cell_type": "code",
   "execution_count": 4,
   "metadata": {},
   "outputs": [],
   "source": [
    "DATA_DIR = \"../data\"\n",
    "# DATA_DIR = \"../data/scenes/validate_chopped_10\"\n",
    "# os.environ[\"L5KIT_DATA_FOLDER\"] = DATA_DIR"
   ]
  },
  {
   "cell_type": "code",
   "execution_count": 5,
   "metadata": {},
   "outputs": [],
   "source": [
    "cfg = {\n",
    "    \"format_version\": 4,\n",
    "    \"model_params\": {\n",
    "        \"history_num_frames\": 10,\n",
    "        \"history_step_size\": 1,\n",
    "        \"history_delta_time\": 0.1,\n",
    "        \"future_num_frames\": 50,\n",
    "        \"future_step_size\": 1,\n",
    "        \"future_delta_time\": 0.1,\n",
    "    },\n",
    "    \"raster_params\": {\n",
    "        \"raster_size\": [384, 384],\n",
    "        \"pixel_size\": [0.5, 0.5],\n",
    "        \"ego_center\": [0.25, 0.5],\n",
    "        \"map_type\": \"py_semantic\",\n",
    "        \"satellite_map_key\": \"aerial_map/aerial_map.png\",\n",
    "        \"semantic_map_key\": \"semantic_map/semantic_map.pb\",\n",
    "        \"dataset_meta_key\": \"meta.json\",\n",
    "        \"filter_agents_threshold\": 0.0,\n",
    "    },\n",
    "}"
   ]
  },
  {
   "cell_type": "code",
   "execution_count": 6,
   "metadata": {},
   "outputs": [
    {
     "name": "stdout",
     "output_type": "stream",
     "text": [
      "<= Loaded model from '../logs/resnet18_bigerimages_continue4/stage_0/best.pth'\n",
      "Stage: stage_0\n",
      "Epoch: 1\n",
      "Metrics:\n",
      "{'train': {'loss': 12.515466623828052}, 'valid': {'loss': 12.515466623828052}}\n"
     ]
    }
   ],
   "source": [
    "history_n_frames = cfg[\"model_params\"][\"history_num_frames\"]\n",
    "future_n_frames = cfg[\"model_params\"][\"future_num_frames\"]\n",
    "n_trajectories = 3\n",
    "\n",
    "model = ModelWithConfidence(\n",
    "    backbone=resnet18(\n",
    "        pretrained=False,\n",
    "        in_channels=3 + 2 * (history_n_frames + 1),\n",
    "        num_classes=2 * future_n_frames * n_trajectories + n_trajectories,\n",
    "    ),\n",
    "    future_num_frames=future_n_frames,\n",
    "    num_trajectories=n_trajectories,\n",
    ")\n",
    "\n",
    "# load_checkpoint(\"../logs/resnet18_bigerimages_continue3_alternative/stage_0/best.pth\", model)\n",
    "\n",
    "load_checkpoint(\"../logs/resnet18_bigerimages_continue4/stage_0/best.pth\", model)\n",
    "\n",
    "model = model.eval()"
   ]
  },
  {
   "cell_type": "code",
   "execution_count": 7,
   "metadata": {},
   "outputs": [
    {
     "name": "stdout",
     "output_type": "stream",
     "text": [
      "(125423254,)\n"
     ]
    }
   ],
   "source": [
    "valid_mask = np.load(f\"{DATA_DIR}/scenes/validate_chopped_100/mask.npz\")[\"arr_0\"]\n",
    "\n",
    "print(valid_mask.shape)"
   ]
  },
  {
   "cell_type": "code",
   "execution_count": 8,
   "metadata": {},
   "outputs": [
    {
     "name": "stdout",
     "output_type": "stream",
     "text": [
      "94694\n"
     ]
    }
   ],
   "source": [
    "# dm = LocalDataManager(None)\n",
    "dm = LocalDataManager(DATA_DIR)\n",
    "rasterizer = build_rasterizer(cfg, dm)\n",
    "\n",
    "valid_zarr = ChunkedDataset(dm.require(\"scenes/validate_chopped_100/validate.zarr\")).open()\n",
    "\n",
    "bs = 32\n",
    "\n",
    "valid_dataset = CubicAgentDataset(cfg, valid_zarr, rasterizer, agents_mask=valid_mask)\n",
    "print(len(valid_dataset))\n",
    "\n",
    "# valid_dataset = Subset(valid_dataset, list(range(bs * 4)))\n",
    "\n",
    "valid_dataloader = DataLoader(\n",
    "    valid_dataset,\n",
    "    shuffle=False,\n",
    "    batch_size=bs,\n",
    "    num_workers=20,\n",
    ")"
   ]
  },
  {
   "cell_type": "code",
   "execution_count": 9,
   "metadata": {},
   "outputs": [],
   "source": [
    "# print(valid_dataset)"
   ]
  },
  {
   "cell_type": "code",
   "execution_count": 10,
   "metadata": {},
   "outputs": [],
   "source": [
    "device = torch.device(\"cuda:0\")\n",
    "model = model.to(device)"
   ]
  },
  {
   "cell_type": "code",
   "execution_count": 11,
   "metadata": {},
   "outputs": [],
   "source": [
    "# model.eval()\n",
    "# losses = 0.0\n",
    "# targets_list = []\n",
    "# with torch.no_grad(), tqdm(total=len(valid_dataloader), desc=\"valid\") as progress:\n",
    "#     for idx, batch in enumerate(valid_dataloader):\n",
    "#         images, targets, target_availabilities = t2d(\n",
    "#             (\n",
    "#                 batch[\"image\"],\n",
    "#                 batch[\"target_positions\"],\n",
    "#                 batch[\"target_availabilities\"],\n",
    "#             ),\n",
    "#             device,\n",
    "#         )\n",
    "\n",
    "#         preds, confidences = model(images)\n",
    "#         loss = neg_multi_log_likelihood_batch(targets, preds, confidences, target_availabilities, reduction=\"mean\")\n",
    "        \n",
    "#         losses += loss.item()\n",
    "        \n",
    "#         targets_list.append(targets.cpu().detach().numpy())\n",
    "\n",
    "#         progress.update(1)\n",
    "\n",
    "# losses /= idx + 1\n",
    "\n",
    "# print(losses)"
   ]
  },
  {
   "cell_type": "code",
   "execution_count": 13,
   "metadata": {},
   "outputs": [
    {
     "name": "stdout",
     "output_type": "stream",
     "text": [
      "100%|████████████████████| 2960/2960 [16:11<00:00,  3.05it/s]\n"
     ]
    }
   ],
   "source": [
    "model.eval()\n",
    "torch.set_grad_enabled(False)\n",
    "\n",
    "# store information for evaluation\n",
    "future_coords_offsets_pd = []\n",
    "ground_truth = []\n",
    "timestamps = []\n",
    "confidences_list = []\n",
    "agent_ids = []\n",
    "\n",
    "with tqdm(total=len(valid_dataloader)) as progress:\n",
    "    for batch in valid_dataloader:\n",
    "        inputs = batch['image'].to(device)\n",
    "        squares = batch[\"square_category\"].to(device)\n",
    "        months = batch[\"time_month\"].to(device)\n",
    "        weekdays = batch[\"time_weekday\"].to(device)\n",
    "        hours= batch[\"time_hour\"].to(device)\n",
    "        \n",
    "\n",
    "        preds, confidences = model(\n",
    "            inputs, #squares, months, weekdays, hours\n",
    "        )\n",
    "        \n",
    "        # TODO: fix coordinates\n",
    "        _gt = batch[\"target_positions\"].cpu().numpy().copy()\n",
    "        preds = preds.cpu().numpy().copy()\n",
    "        world_from_agents = batch[\"world_from_agent\"].numpy()\n",
    "        centroids = batch[\"centroid\"].numpy()\n",
    "        for idx in range(len(preds)):\n",
    "            for mode in range(n_trajectories):\n",
    "                # FIX\n",
    "                preds[idx, mode, :, :] = transform_points(preds[idx, mode, :, :], world_from_agents[idx]) - centroids[idx][:2]\n",
    "            _gt[idx, :, :] = transform_points(_gt[idx, :, :], world_from_agents[idx]) - centroids[idx][:2]\n",
    "        \n",
    "        future_coords_offsets_pd.append(preds.copy())\n",
    "        confidences_list.append(confidences.cpu().numpy().copy())\n",
    "        timestamps.append(batch[\"timestamp\"].numpy().copy())\n",
    "        agent_ids.append(batch[\"track_id\"].numpy().copy())\n",
    "\n",
    "        progress.update(1)\n",
    "\n",
    "\n",
    "predictions_file = \"findings/preds_validate_chopped_100.csv\"\n",
    "write_pred_csv(\n",
    "    predictions_file,\n",
    "    timestamps=np.concatenate(timestamps),\n",
    "    track_ids=np.concatenate(agent_ids),\n",
    "    coords=np.concatenate(future_coords_offsets_pd),\n",
    "    confs=np.concatenate(confidences_list)\n",
    ")\n",
    "\n",
    "# predictions_file = \"findings/target.csv\"\n",
    "# write_pred_csv(\n",
    "#     predictions_file,\n",
    "#     timestamps=np.concatenate(timestamps),\n",
    "#     track_ids=np.concatenate(agent_ids),\n",
    "#     coords=np.concatenate(_gt),\n",
    "#     confs=np.ze\n",
    "# )"
   ]
  },
  {
   "cell_type": "code",
   "execution_count": 14,
   "metadata": {},
   "outputs": [],
   "source": [
    "# pred_df = ps.read_csv(\"findings/preds.csv\")[[\"timestamp\", \"track_id\"]]\n",
    "\n",
    "# df = ps.read_csv(\"../data/scenes/validate_chopped_100/gt.csv\")\n",
    "# # df = df.merge(pred_df, how=\"inner\", on=[\"timestamp\", \"track_id\"])\n",
    "\n",
    "\n",
    "# # df.to_csv(\"findings/target.csv\", index=False)\n",
    "# print(df.shape)\n",
    "# df.head()"
   ]
  },
  {
   "cell_type": "code",
   "execution_count": 15,
   "metadata": {},
   "outputs": [],
   "source": [
    "from l5kit.evaluation import compute_metrics_csv\n",
    "from l5kit.evaluation.metrics import neg_multi_log_likelihood, time_displace"
   ]
  },
  {
   "cell_type": "code",
   "execution_count": 16,
   "metadata": {},
   "outputs": [
    {
     "name": "stdout",
     "output_type": "stream",
     "text": [
      "neg_multi_log_likelihood 19.287209305929156\n",
      "time_displace [0.04403952 0.06675795 0.08868262 0.11151661 0.1311955  0.15069865\n",
      " 0.17015585 0.18768874 0.20346123 0.21961397 0.23564831 0.24891603\n",
      " 0.26367328 0.27850528 0.29341769 0.30630399 0.31880464 0.3309135\n",
      " 0.34227462 0.35395733 0.36545393 0.37582061 0.38518697 0.39510804\n",
      " 0.40521266 0.41428842 0.42360768 0.43200236 0.44099895 0.44898405\n",
      " 0.45789234 0.46660706 0.47523587 0.48436561 0.49374141 0.50496516\n",
      " 0.51558169 0.52608343 0.53507204 0.54692969 0.55864307 0.56990443\n",
      " 0.58360669 0.59770403 0.61346369 0.6281375  0.64435533 0.66220401\n",
      " 0.68220182 0.70156792]\n"
     ]
    }
   ],
   "source": [
    "metrics = compute_metrics_csv(\n",
    "    \"../data/scenes/validate_chopped_100/gt.csv\",\n",
    "    \"findings/preds_validate_chopped_100.csv\",\n",
    "    [neg_multi_log_likelihood, time_displace],\n",
    ")\n",
    "\n",
    "for metric_name, metric_mean in metrics.items():\n",
    "    print(metric_name, metric_mean)"
   ]
  },
  {
   "cell_type": "code",
   "execution_count": null,
   "metadata": {},
   "outputs": [],
   "source": []
  }
 ],
 "metadata": {
  "kernelspec": {
   "display_name": "Python 3.7.4 64-bit ('torch': conda)",
   "language": "python",
   "name": "python37464bittorchcondab46d9803850a4193b40c5aded830a323"
  },
  "language_info": {
   "codemirror_mode": {
    "name": "ipython",
    "version": 3
   },
   "file_extension": ".py",
   "mimetype": "text/x-python",
   "name": "python",
   "nbconvert_exporter": "python",
   "pygments_lexer": "ipython3",
   "version": "3.7.4"
  }
 },
 "nbformat": 4,
 "nbformat_minor": 4
}
