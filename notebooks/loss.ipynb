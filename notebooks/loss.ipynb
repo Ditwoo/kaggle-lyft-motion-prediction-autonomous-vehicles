{
 "cells": [
  {
   "cell_type": "markdown",
   "metadata": {},
   "source": [
    "`local score` vs `loss`"
   ]
  },
  {
   "cell_type": "code",
   "execution_count": 1,
   "metadata": {},
   "outputs": [],
   "source": [
    "import warnings\n",
    "warnings.filterwarnings('ignore')"
   ]
  },
  {
   "cell_type": "code",
   "execution_count": 2,
   "metadata": {},
   "outputs": [],
   "source": [
    "import os\n",
    "import sys\n",
    "import numpy as np\n",
    "import pandas as ps\n",
    "\n",
    "import torch\n",
    "import torch.nn.functional as F\n",
    "from torch.utils.data import DataLoader, Subset \n",
    "\n",
    "\n",
    "from l5kit.geometry import transform_points\n",
    "from l5kit.data import LocalDataManager, ChunkedDataset\n",
    "from l5kit.dataset import AgentDataset, EgoDataset\n",
    "from l5kit.rasterization import build_rasterizer\n",
    "from l5kit.evaluation import write_pred_csv\n",
    "\n",
    "sys.path.append(\"..\")\n",
    "\n",
    "from src.batteries import t2d, load_checkpoint\n",
    "from src.batteries.progress import tqdm\n",
    "from src.models.genet import genet_normal\n",
    "from src.models.resnets import resnet18\n",
    "from src.models import ModelWithConfidence\n",
    "from src.criterion import neg_multi_log_likelihood_batch"
   ]
  },
  {
   "cell_type": "code",
   "execution_count": 3,
   "metadata": {},
   "outputs": [
    {
     "name": "stdout",
     "output_type": "stream",
     "text": [
      "aerial_map\n",
      "lyft-motion-prediction-autonomous-vehicles.zip\n",
      "meta.json\n",
      "multi_mode_sample_submission.csv\n",
      "scenes\n",
      "semantic_map\n",
      "single_mode_sample_submission.csv\n"
     ]
    }
   ],
   "source": [
    "!ls ../data"
   ]
  },
  {
   "cell_type": "code",
   "execution_count": 4,
   "metadata": {},
   "outputs": [],
   "source": [
    "DATA_DIR = \"../data\"\n",
    "# DATA_DIR = \"../data/scenes/validate_chopped_10\"\n",
    "# os.environ[\"L5KIT_DATA_FOLDER\"] = DATA_DIR"
   ]
  },
  {
   "cell_type": "code",
   "execution_count": 5,
   "metadata": {},
   "outputs": [
    {
     "name": "stdout",
     "output_type": "stream",
     "text": [
      "<= Loaded model from '../logs/resnet18_bigerimages_continue2/stage_0/best.pth'\n",
      "Stage: stage_0\n",
      "Epoch: 1\n",
      "Metrics:\n",
      "{'train': {'loss': 8.921008872906482}, 'valid': {'loss': 8.921008872906482}}\n"
     ]
    }
   ],
   "source": [
    "cfg = {\n",
    "    \"format_version\": 4,\n",
    "    \"model_params\": {\n",
    "        \"history_num_frames\": 10,\n",
    "        \"history_step_size\": 1,\n",
    "        \"history_delta_time\": 0.1,\n",
    "        \"future_num_frames\": 50,\n",
    "        \"future_step_size\": 1,\n",
    "        \"future_delta_time\": 0.1,\n",
    "    },\n",
    "    \"raster_params\": {\n",
    "        \"raster_size\": [384, 384],\n",
    "        \"pixel_size\": [0.5, 0.5],\n",
    "        \"ego_center\": [0.25, 0.5],\n",
    "        \"map_type\": \"py_semantic\",\n",
    "        \"satellite_map_key\": \"aerial_map/aerial_map.png\",\n",
    "        \"semantic_map_key\": \"semantic_map/semantic_map.pb\",\n",
    "        \"dataset_meta_key\": \"meta.json\",\n",
    "        \"filter_agents_threshold\": 0.0,\n",
    "    },\n",
    "}\n",
    "\n",
    "history_n_frames = cfg[\"model_params\"][\"history_num_frames\"]\n",
    "future_n_frames = cfg[\"model_params\"][\"future_num_frames\"]\n",
    "n_trajectories = 3\n",
    "\n",
    "model = ModelWithConfidence(\n",
    "    backbone=resnet18(\n",
    "        pretrained=False,\n",
    "        in_channels=3 + 2 * (history_n_frames + 1),\n",
    "        num_classes=2 * future_n_frames * n_trajectories + n_trajectories,\n",
    "    ),\n",
    "    future_num_frames=future_n_frames,\n",
    "    num_trajectories=n_trajectories,\n",
    ")\n",
    "load_checkpoint(\"../logs/resnet18_bigerimages_continue2/stage_0/best.pth\", model)\n",
    "model = model.eval()"
   ]
  },
  {
   "cell_type": "code",
   "execution_count": 6,
   "metadata": {},
   "outputs": [
    {
     "name": "stdout",
     "output_type": "stream",
     "text": [
      "(125423254,)\n"
     ]
    }
   ],
   "source": [
    "valid_mask = np.load(f\"{DATA_DIR}/scenes/validate_chopped_100/mask.npz\")[\"arr_0\"]\n",
    "\n",
    "print(valid_mask.shape)"
   ]
  },
  {
   "cell_type": "code",
   "execution_count": 7,
   "metadata": {},
   "outputs": [
    {
     "name": "stdout",
     "output_type": "stream",
     "text": [
      "94694\n"
     ]
    }
   ],
   "source": [
    "# dm = LocalDataManager(None)\n",
    "dm = LocalDataManager(DATA_DIR)\n",
    "rasterizer = build_rasterizer(cfg, dm)\n",
    "\n",
    "valid_zarr = ChunkedDataset(dm.require(\"scenes/validate_chopped_100/validate.zarr\")).open()\n",
    "\n",
    "bs = 32\n",
    "\n",
    "valid_dataset = AgentDataset(cfg, valid_zarr, rasterizer, agents_mask=valid_mask)\n",
    "print(len(valid_dataset))\n",
    "\n",
    "# valid_dataset = Subset(valid_dataset, list(range(bs * 4)))\n",
    "\n",
    "valid_dataloader = DataLoader(\n",
    "    valid_dataset,\n",
    "    shuffle=False,\n",
    "    batch_size=bs,\n",
    "    num_workers=20,\n",
    ")"
   ]
  },
  {
   "cell_type": "code",
   "execution_count": 8,
   "metadata": {},
   "outputs": [],
   "source": [
    "# print(valid_dataset)"
   ]
  },
  {
   "cell_type": "code",
   "execution_count": 9,
   "metadata": {},
   "outputs": [],
   "source": [
    "device = torch.device(\"cuda:0\")\n",
    "model = model.to(device)"
   ]
  },
  {
   "cell_type": "code",
   "execution_count": 10,
   "metadata": {},
   "outputs": [],
   "source": [
    "# model.eval()\n",
    "# losses = 0.0\n",
    "# targets_list = []\n",
    "# with torch.no_grad(), tqdm(total=len(valid_dataloader), desc=\"valid\") as progress:\n",
    "#     for idx, batch in enumerate(valid_dataloader):\n",
    "#         images, targets, target_availabilities = t2d(\n",
    "#             (\n",
    "#                 batch[\"image\"],\n",
    "#                 batch[\"target_positions\"],\n",
    "#                 batch[\"target_availabilities\"],\n",
    "#             ),\n",
    "#             device,\n",
    "#         )\n",
    "\n",
    "#         preds, confidences = model(images)\n",
    "#         loss = neg_multi_log_likelihood_batch(targets, preds, confidences, target_availabilities, reduction=\"mean\")\n",
    "        \n",
    "#         losses += loss.item()\n",
    "        \n",
    "#         targets_list.append(targets.cpu().detach().numpy())\n",
    "\n",
    "#         progress.update(1)\n",
    "\n",
    "# losses /= idx + 1\n",
    "\n",
    "# print(losses)"
   ]
  },
  {
   "cell_type": "code",
   "execution_count": 11,
   "metadata": {},
   "outputs": [
    {
     "name": "stdout",
     "output_type": "stream",
     "text": [
      "100%|████████████████████| 2960/2960 [16:02<00:00,  3.08it/s]\n"
     ]
    }
   ],
   "source": [
    "model.eval()\n",
    "torch.set_grad_enabled(False)\n",
    "\n",
    "# store information for evaluation\n",
    "future_coords_offsets_pd = []\n",
    "ground_truth = []\n",
    "timestamps = []\n",
    "confidences_list = []\n",
    "agent_ids = []\n",
    "\n",
    "with tqdm(total=len(valid_dataloader)) as progress:\n",
    "    for batch in valid_dataloader:\n",
    "        inputs = batch['image'].to(device)\n",
    "\n",
    "        preds, confidences  = model(inputs)\n",
    "        \n",
    "        # TODO: fix coordinates\n",
    "        _gt = batch[\"target_positions\"].cpu().numpy().copy()\n",
    "        preds = preds.cpu().numpy().copy()\n",
    "        world_from_agents = batch[\"world_from_agent\"].numpy()\n",
    "        centroids = batch[\"centroid\"].numpy()\n",
    "        for idx in range(len(preds)):\n",
    "            for mode in range(n_trajectories):\n",
    "                # FIX\n",
    "                preds[idx, mode, :, :] = transform_points(preds[idx, mode, :, :], world_from_agents[idx]) - centroids[idx][:2]\n",
    "            _gt[idx, :, :] = transform_points(_gt[idx, :, :], world_from_agents[idx]) - centroids[idx][:2]\n",
    "        \n",
    "        future_coords_offsets_pd.append(preds.copy())\n",
    "        confidences_list.append(confidences.cpu().numpy().copy())\n",
    "        timestamps.append(batch[\"timestamp\"].numpy().copy())\n",
    "        agent_ids.append(batch[\"track_id\"].numpy().copy())\n",
    "\n",
    "        progress.update(1)\n",
    "\n",
    "\n",
    "predictions_file = \"findings/preds_validate_chopped_100.csv\"\n",
    "write_pred_csv(\n",
    "    predictions_file,\n",
    "    timestamps=np.concatenate(timestamps),\n",
    "    track_ids=np.concatenate(agent_ids),\n",
    "    coords=np.concatenate(future_coords_offsets_pd),\n",
    "    confs=np.concatenate(confidences_list)\n",
    ")\n",
    "\n",
    "# predictions_file = \"findings/target.csv\"\n",
    "# write_pred_csv(\n",
    "#     predictions_file,\n",
    "#     timestamps=np.concatenate(timestamps),\n",
    "#     track_ids=np.concatenate(agent_ids),\n",
    "#     coords=np.concatenate(_gt),\n",
    "#     confs=np.ze\n",
    "# )"
   ]
  },
  {
   "cell_type": "code",
   "execution_count": 12,
   "metadata": {},
   "outputs": [],
   "source": [
    "# pred_df = ps.read_csv(\"findings/preds.csv\")[[\"timestamp\", \"track_id\"]]\n",
    "\n",
    "# df = ps.read_csv(\"../data/scenes/validate_chopped_100/gt.csv\")\n",
    "# # df = df.merge(pred_df, how=\"inner\", on=[\"timestamp\", \"track_id\"])\n",
    "\n",
    "\n",
    "# # df.to_csv(\"findings/target.csv\", index=False)\n",
    "# print(df.shape)\n",
    "# df.head()"
   ]
  },
  {
   "cell_type": "code",
   "execution_count": 13,
   "metadata": {},
   "outputs": [],
   "source": [
    "from l5kit.evaluation import compute_metrics_csv\n",
    "from l5kit.evaluation.metrics import neg_multi_log_likelihood, time_displace"
   ]
  },
  {
   "cell_type": "code",
   "execution_count": 14,
   "metadata": {},
   "outputs": [
    {
     "name": "stdout",
     "output_type": "stream",
     "text": [
      "neg_multi_log_likelihood 20.007419438052725\n",
      "time_displace [0.04174301 0.0698901  0.09255196 0.11507532 0.13046752 0.14505945\n",
      " 0.16226824 0.17908119 0.19666341 0.21426802 0.22892439 0.2454698\n",
      " 0.26170157 0.27591662 0.29304431 0.30539942 0.31834466 0.33221165\n",
      " 0.34416065 0.35829446 0.36890098 0.37951187 0.38950647 0.40043352\n",
      " 0.41178222 0.42250232 0.43236829 0.44354361 0.45117948 0.46123177\n",
      " 0.4706947  0.4830809  0.49162106 0.50093271 0.51055683 0.52126692\n",
      " 0.53071726 0.54129796 0.55153665 0.5634062  0.57675571 0.58726229\n",
      " 0.60162309 0.61620474 0.62979376 0.6444192  0.65931142 0.67650304\n",
      " 0.69480503 0.71273607]\n"
     ]
    }
   ],
   "source": [
    "metrics = compute_metrics_csv(\n",
    "    \"../data/scenes/validate_chopped_100/gt.csv\",\n",
    "    \"findings/preds_validate_chopped_100.csv\",\n",
    "    [neg_multi_log_likelihood, time_displace],\n",
    ")\n",
    "\n",
    "for metric_name, metric_mean in metrics.items():\n",
    "    print(metric_name, metric_mean)"
   ]
  },
  {
   "cell_type": "code",
   "execution_count": null,
   "metadata": {},
   "outputs": [],
   "source": []
  }
 ],
 "metadata": {
  "kernelspec": {
   "display_name": "Python 3.7.4 64-bit ('torch': conda)",
   "language": "python",
   "name": "python37464bittorchcondab46d9803850a4193b40c5aded830a323"
  },
  "language_info": {
   "codemirror_mode": {
    "name": "ipython",
    "version": 3
   },
   "file_extension": ".py",
   "mimetype": "text/x-python",
   "name": "python",
   "nbconvert_exporter": "python",
   "pygments_lexer": "ipython3",
   "version": "3.7.4"
  }
 },
 "nbformat": 4,
 "nbformat_minor": 4
}
