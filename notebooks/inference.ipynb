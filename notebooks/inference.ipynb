{
 "cells": [
  {
   "cell_type": "code",
   "execution_count": 1,
   "metadata": {},
   "outputs": [],
   "source": [
    "import warnings\n",
    "warnings.filterwarnings('ignore');"
   ]
  },
  {
   "cell_type": "code",
   "execution_count": 2,
   "metadata": {},
   "outputs": [],
   "source": [
    "import os\n",
    "import sys\n",
    "import numpy as np\n",
    "import pandas as ps\n",
    "\n",
    "import torch\n",
    "import torch.nn.functional as F\n",
    "from torch.utils.data import DataLoader, RandomSampler\n",
    "\n",
    "\n",
    "from l5kit.data import LocalDataManager, ChunkedDataset\n",
    "from l5kit.dataset import AgentDataset, EgoDataset\n",
    "from l5kit.rasterization import build_rasterizer\n",
    "from l5kit.evaluation import write_pred_csv\n",
    "\n",
    "sys.path.append(\"..\")\n",
    "\n",
    "from src.batteries import t2d, load_checkpoint\n",
    "from src.batteries.progress import tqdm\n",
    "from src.models.genet import genet_normal"
   ]
  },
  {
   "cell_type": "code",
   "execution_count": 3,
   "metadata": {},
   "outputs": [],
   "source": [
    "DATA_DIR = \"../data\"\n",
    "os.environ[\"L5KIT_DATA_FOLDER\"] = DATA_DIR"
   ]
  },
  {
   "cell_type": "code",
   "execution_count": 4,
   "metadata": {},
   "outputs": [
    {
     "name": "stdout",
     "output_type": "stream",
     "text": [
      "<= Loaded model from '../logs/genet_normal/stage_0/best.pth'\n",
      "Stage: stage_0\n",
      "Epoch: 41\n",
      "Metrics:\n",
      "{'train': {'loss': 0.8472687861264248}, 'valid': {'loss': 0.8384244911799765}}\n"
     ]
    }
   ],
   "source": [
    "cfg = {\n",
    "    \"format_version\": 4,\n",
    "    \"model_params\": {\n",
    "        \"history_num_frames\": 10,\n",
    "        \"history_step_size\": 1,\n",
    "        \"history_delta_time\": 0.1,\n",
    "        \"future_num_frames\": 50,\n",
    "        \"future_step_size\": 1,\n",
    "        \"future_delta_time\": 0.1,\n",
    "    },\n",
    "    \"raster_params\": {\n",
    "        \"raster_size\": [224, 224],\n",
    "        \"pixel_size\": [0.5, 0.5],\n",
    "        \"ego_center\": [0.25, 0.5],\n",
    "        \"map_type\": \"py_semantic\",\n",
    "        \"satellite_map_key\": \"aerial_map/aerial_map.png\",\n",
    "        \"semantic_map_key\": \"semantic_map/semantic_map.pb\",\n",
    "        \"dataset_meta_key\": \"meta.json\",\n",
    "        \"filter_agents_threshold\": 0.5,\n",
    "    },\n",
    "    \"train_data_loader\": {\n",
    "        \"key\": \"scenes/train.zarr\",\n",
    "        \"batch_size\": 12,\n",
    "        \"shuffle\": True,\n",
    "        \"num_workers\": 4,\n",
    "    },\n",
    "}\n",
    "\n",
    "model = genet_normal(\n",
    "    in_channels=3 + (cfg[\"model_params\"][\"history_num_frames\"] + 1) * 2,\n",
    "    num_classes=2 * cfg[\"model_params\"][\"future_num_frames\"],\n",
    ")\n",
    "load_checkpoint(\"../logs/genet_normal/stage_0/best.pth\", model)"
   ]
  },
  {
   "cell_type": "code",
   "execution_count": 5,
   "metadata": {},
   "outputs": [],
   "source": [
    "dm = LocalDataManager(None)\n",
    "rasterizer = build_rasterizer(cfg, dm)\n",
    "\n",
    "test_zarr = ChunkedDataset(dm.require(\"scenes/test.zarr\")).open()\n",
    "test_mask = np.load(f\"{DATA_DIR}/scenes/mask.npz\")[\"arr_0\"]\n",
    "\n",
    "test_dataset = AgentDataset(\n",
    "    cfg, test_zarr, rasterizer, agents_mask=test_mask\n",
    ")\n",
    "test_dataloader = DataLoader(\n",
    "    test_dataset,\n",
    "    shuffle=False,\n",
    "    batch_size=64,\n",
    "    num_workers=16\n",
    ")"
   ]
  },
  {
   "cell_type": "code",
   "execution_count": 6,
   "metadata": {},
   "outputs": [],
   "source": [
    "device = torch.device(\"cuda:0\")\n",
    "model = model.to(device)"
   ]
  },
  {
   "cell_type": "code",
   "execution_count": 7,
   "metadata": {},
   "outputs": [
    {
     "name": "stdout",
     "output_type": "stream",
     "text": [
      "100%|████████████████████| 1112/1112 [04:15<00:00,  4.35it/s]\n"
     ]
    }
   ],
   "source": [
    "model.eval()\n",
    "\n",
    "future_coords_offsets_pd = []\n",
    "timestamps = []\n",
    "agent_ids = []\n",
    "\n",
    "with torch.no_grad(), tqdm(total=len(test_dataloader)) as progress:\n",
    "    for data in test_dataloader:\n",
    "        inputs = data[\"image\"].to(device)\n",
    "        target_availabilities = data[\"target_availabilities\"].unsqueeze(-1).to(device)\n",
    "        targets = data[\"target_positions\"].to(device)\n",
    "\n",
    "        outputs = model(inputs).reshape(targets.shape)\n",
    "        \n",
    "        future_coords_offsets_pd.append(outputs.cpu().numpy().copy())\n",
    "        timestamps.append(data[\"timestamp\"].numpy().copy())\n",
    "        agent_ids.append(data[\"track_id\"].numpy().copy())\n",
    "\n",
    "        progress.update(1)\n",
    "\n",
    "\n",
    "#create submission to submit to Kaggle\n",
    "predictions_file = \"submission_mse.csv\"\n",
    "write_pred_csv(\n",
    "    predictions_file,\n",
    "    timestamps=np.concatenate(timestamps),\n",
    "    track_ids=np.concatenate(agent_ids),\n",
    "    coords=np.concatenate(future_coords_offsets_pd)\n",
    ")"
   ]
  },
  {
   "cell_type": "code",
   "execution_count": null,
   "metadata": {},
   "outputs": [],
   "source": []
  }
 ],
 "metadata": {
  "kernelspec": {
   "display_name": "Python 3.7.4 64-bit ('torch': conda)",
   "language": "python",
   "name": "python37464bittorchcondab46d9803850a4193b40c5aded830a323"
  },
  "language_info": {
   "codemirror_mode": {
    "name": "ipython",
    "version": 3
   },
   "file_extension": ".py",
   "mimetype": "text/x-python",
   "name": "python",
   "nbconvert_exporter": "python",
   "pygments_lexer": "ipython3",
   "version": "3.7.4"
  }
 },
 "nbformat": 4,
 "nbformat_minor": 4
}
