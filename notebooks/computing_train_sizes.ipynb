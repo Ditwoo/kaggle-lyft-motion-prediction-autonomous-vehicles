{
 "cells": [
  {
   "cell_type": "code",
   "execution_count": 1,
   "metadata": {},
   "outputs": [],
   "source": [
    "import warnings\n",
    "warnings.filterwarnings('ignore')"
   ]
  },
  {
   "cell_type": "code",
   "execution_count": 2,
   "metadata": {},
   "outputs": [],
   "source": [
    "import os\n",
    "import sys\n",
    "import numpy as np\n",
    "import pandas as ps\n",
    "\n",
    "from torch.utils.data import DataLoader\n",
    "\n",
    "from joblib import Parallel, delayed\n",
    "\n",
    "from l5kit.geometry import transform_points\n",
    "from l5kit.data import LocalDataManager, ChunkedDataset\n",
    "from l5kit.dataset import AgentDataset, EgoDataset\n",
    "from l5kit.rasterization import build_rasterizer\n",
    "from l5kit.evaluation import write_pred_csv\n",
    "from l5kit.visualization import draw_trajectory\n",
    "\n",
    "from utils import traj_geometry_from_item\n",
    "\n",
    "from tqdm import tqdm"
   ]
  },
  {
   "cell_type": "code",
   "execution_count": 3,
   "metadata": {},
   "outputs": [],
   "source": [
    "cfg = {\n",
    "    \"format_version\": 4,\n",
    "    \"model_params\": {\n",
    "        \"history_num_frames\": 10,\n",
    "        \"history_step_size\": 1,\n",
    "        \"history_delta_time\": 0.1,\n",
    "        \"future_num_frames\": 50,\n",
    "        \"future_step_size\": 1,\n",
    "        \"future_delta_time\": 0.1,\n",
    "    },\n",
    "    \"raster_params\": {\n",
    "        \"raster_size\": [384, 384],\n",
    "        \"pixel_size\": [0.5, 0.5],\n",
    "        \"ego_center\": [0.25, 0.5],\n",
    "        \"map_type\": \"py_semantic\",\n",
    "        \"satellite_map_key\": \"aerial_map/aerial_map.png\",\n",
    "        \"semantic_map_key\": \"semantic_map/semantic_map.pb\",\n",
    "        \"dataset_meta_key\": \"meta.json\",\n",
    "        \"filter_agents_threshold\": 0.5,\n",
    "    },\n",
    "    \"train_data_loader\": {\n",
    "        \"key\": \"scenes/train.zarr\",\n",
    "        \"batch_size\": 12,\n",
    "        \"shuffle\": True,\n",
    "        \"num_workers\": 4,\n",
    "    },\n",
    "}"
   ]
  },
  {
   "cell_type": "code",
   "execution_count": 4,
   "metadata": {},
   "outputs": [],
   "source": [
    "class MyDataset(AgentDataset):\n",
    "    def __getitem__(self, index):\n",
    "        sample = super().__getitem__(index)\n",
    "        return (\n",
    "            sample[\"track_id\"],\n",
    "            sample[\"timestamp\"],\n",
    "            traj_geometry_from_item(sample)[0]\n",
    "        )"
   ]
  },
  {
   "cell_type": "code",
   "execution_count": 5,
   "metadata": {},
   "outputs": [],
   "source": [
    "dm = LocalDataManager(\"../data\")\n",
    "rasterizer = build_rasterizer(cfg, dm)\n",
    "\n",
    "zarr = ChunkedDataset(dm.require(\"scenes/train.zarr\")).open()\n",
    "# test_mask = np.load(f\"{DATA_DIR}/scenes/mask.npz\")[\"arr_0\"]\n",
    "\n",
    "dataset = MyDataset(cfg, zarr, rasterizer)"
   ]
  },
  {
   "cell_type": "code",
   "execution_count": 6,
   "metadata": {},
   "outputs": [],
   "source": [
    "dataset.rasterizer = lambda a, b, c, d: np.zeros((2, 2))"
   ]
  },
  {
   "cell_type": "code",
   "execution_count": 7,
   "metadata": {},
   "outputs": [
    {
     "data": {
      "text/plain": [
       "[1, 1572643685901838786, 13.683506216882]"
      ]
     },
     "execution_count": 7,
     "metadata": {},
     "output_type": "execute_result"
    }
   ],
   "source": [
    "list(dataset[0])"
   ]
  },
  {
   "cell_type": "code",
   "execution_count": 8,
   "metadata": {},
   "outputs": [],
   "source": [
    "# def sample_information(sample):\n",
    "#     return (\n",
    "#         sample[\"track_id\"],\n",
    "#         sample[\"timestamp\"],\n",
    "#         traj_geometry_from_item(sample)[0]\n",
    "#     )"
   ]
  },
  {
   "cell_type": "code",
   "execution_count": 9,
   "metadata": {},
   "outputs": [],
   "source": [
    "# results = []\n",
    "# for elem in tqdm(dataset):\n",
    "#     results.append(sample_information(elem))"
   ]
  },
  {
   "cell_type": "code",
   "execution_count": 10,
   "metadata": {},
   "outputs": [],
   "source": [
    "# sizes = Parallel(n_jobs=2)(\n",
    "#     delayed(sample_information)(item)\n",
    "#     for item in tqdm(dataset, desc=\"computing sizes\")\n",
    "# )"
   ]
  },
  {
   "cell_type": "code",
   "execution_count": 11,
   "metadata": {},
   "outputs": [],
   "source": [
    "# from multiprocessing import Pool\n",
    "\n",
    "# results = []\n",
    "# with Pool(processes=30) as pool:\n",
    "#     for res in tqdm(pool.imap(func=sample_information, iterable=dataset), total=len(dataset)):\n",
    "#         results.append(res)"
   ]
  },
  {
   "cell_type": "code",
   "execution_count": 12,
   "metadata": {},
   "outputs": [
    {
     "name": "stderr",
     "output_type": "stream",
     "text": [
      "100%|██████████| 1406045/1406045 [30:20:23<00:00, 12.87it/s]   \n"
     ]
    }
   ],
   "source": [
    "loader = DataLoader(\n",
    "    dataset, batch_size=16, num_workers=16,\n",
    ")\n",
    "\n",
    "\n",
    "track_ids = []\n",
    "timestamps = []\n",
    "sizes = []\n",
    "for tid, ts, sz in tqdm(loader):\n",
    "    track_ids.append(tid.numpy().copy())\n",
    "    timestamps.append(ts.numpy().copy())\n",
    "    sizes.append(sz.numpy().copy())"
   ]
  },
  {
   "cell_type": "code",
   "execution_count": 13,
   "metadata": {},
   "outputs": [
    {
     "data": {
      "text/plain": [
       "((22496709,), (22496709,), (22496709,))"
      ]
     },
     "execution_count": 13,
     "metadata": {},
     "output_type": "execute_result"
    }
   ],
   "source": [
    "track_ids_arr = np.concatenate(track_ids)\n",
    "timestamps_arr = np.concatenate(timestamps)\n",
    "sizes_arr = np.concatenate(sizes)\n",
    "\n",
    "track_ids_arr.shape, timestamps_arr.shape, sizes_arr.shape"
   ]
  },
  {
   "cell_type": "code",
   "execution_count": 14,
   "metadata": {},
   "outputs": [
    {
     "name": "stdout",
     "output_type": "stream",
     "text": [
      "(22496709, 3)\n"
     ]
    },
    {
     "data": {
      "text/html": [
       "<div>\n",
       "<style scoped>\n",
       "    .dataframe tbody tr th:only-of-type {\n",
       "        vertical-align: middle;\n",
       "    }\n",
       "\n",
       "    .dataframe tbody tr th {\n",
       "        vertical-align: top;\n",
       "    }\n",
       "\n",
       "    .dataframe thead th {\n",
       "        text-align: right;\n",
       "    }\n",
       "</style>\n",
       "<table border=\"1\" class=\"dataframe\">\n",
       "  <thead>\n",
       "    <tr style=\"text-align: right;\">\n",
       "      <th></th>\n",
       "      <th>track_id</th>\n",
       "      <th>timestamp</th>\n",
       "      <th>size</th>\n",
       "    </tr>\n",
       "  </thead>\n",
       "  <tbody>\n",
       "    <tr>\n",
       "      <td>0</td>\n",
       "      <td>1</td>\n",
       "      <td>1572643685901838786</td>\n",
       "      <td>13.683506</td>\n",
       "    </tr>\n",
       "    <tr>\n",
       "      <td>1</td>\n",
       "      <td>1</td>\n",
       "      <td>1572643686001682106</td>\n",
       "      <td>13.598927</td>\n",
       "    </tr>\n",
       "    <tr>\n",
       "      <td>2</td>\n",
       "      <td>1</td>\n",
       "      <td>1572643686101481026</td>\n",
       "      <td>13.073820</td>\n",
       "    </tr>\n",
       "    <tr>\n",
       "      <td>3</td>\n",
       "      <td>1</td>\n",
       "      <td>1572643686201245346</td>\n",
       "      <td>11.914124</td>\n",
       "    </tr>\n",
       "    <tr>\n",
       "      <td>4</td>\n",
       "      <td>1</td>\n",
       "      <td>1572643686301017666</td>\n",
       "      <td>10.300927</td>\n",
       "    </tr>\n",
       "  </tbody>\n",
       "</table>\n",
       "</div>"
      ],
      "text/plain": [
       "   track_id            timestamp       size\n",
       "0         1  1572643685901838786  13.683506\n",
       "1         1  1572643686001682106  13.598927\n",
       "2         1  1572643686101481026  13.073820\n",
       "3         1  1572643686201245346  11.914124\n",
       "4         1  1572643686301017666  10.300927"
      ]
     },
     "execution_count": 14,
     "metadata": {},
     "output_type": "execute_result"
    }
   ],
   "source": [
    "result_df = ps.DataFrame({\n",
    "    \"track_id\": track_ids_arr,\n",
    "    \"timestamp\": timestamps_arr,\n",
    "    \"size\": sizes_arr\n",
    "})\n",
    "\n",
    "print(result_df.shape)\n",
    "result_df.head()"
   ]
  },
  {
   "cell_type": "code",
   "execution_count": 15,
   "metadata": {},
   "outputs": [],
   "source": [
    "result_df.to_csv(\"train_zarr_sizes.csv\", index=False)"
   ]
  },
  {
   "cell_type": "code",
   "execution_count": null,
   "metadata": {},
   "outputs": [],
   "source": []
  }
 ],
 "metadata": {
  "kernelspec": {
   "display_name": "Python 3.7.4 64-bit ('torch': conda)",
   "language": "python",
   "name": "python37464bittorchcondab46d9803850a4193b40c5aded830a323"
  },
  "language_info": {
   "codemirror_mode": {
    "name": "ipython",
    "version": 3
   },
   "file_extension": ".py",
   "mimetype": "text/x-python",
   "name": "python",
   "nbconvert_exporter": "python",
   "pygments_lexer": "ipython3",
   "version": "3.7.4"
  }
 },
 "nbformat": 4,
 "nbformat_minor": 4
}
